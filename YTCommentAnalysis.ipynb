{
  "nbformat": 4,
  "nbformat_minor": 0,
  "metadata": {
    "colab": {
      "provenance": []
    },
    "kernelspec": {
      "name": "python3",
      "display_name": "Python 3"
    },
    "language_info": {
      "name": "python"
    }
  },
  "cells": [
    {
      "cell_type": "code",
      "execution_count": null,
      "metadata": {
        "id": "pdxfyhj95MIX"
      },
      "outputs": [],
      "source": [
        "!pip install groq\n",
        "!pip install google-api-python-client\n",
        "!pip install pandas"
      ]
    },
    {
      "cell_type": "code",
      "source": [
        "import pandas as pd\n",
        "import googleapiclient.discovery\n",
        "from groq import Groq"
      ],
      "metadata": {
        "id": "y0W2hMV4736I"
      },
      "execution_count": 2,
      "outputs": []
    },
    {
      "cell_type": "code",
      "source": [
        "api_service_name = 'youtube'\n",
        "api_version = 'v3'\n",
        "YT_API_KEY = 'your yt api key'\n",
        "GROQ_API_KEY = \"your groq key\""
      ],
      "metadata": {
        "id": "FG7ZdKQC75LG"
      },
      "execution_count": 3,
      "outputs": []
    },
    {
      "cell_type": "code",
      "source": [
        "youtube = googleapiclient.discovery.build(api_service_name, api_version, developerKey=YT_API_KEY)\n",
        "groqclient = Groq(api_key=GROQ_API_KEY)"
      ],
      "metadata": {
        "id": "kJGeBpdn75SQ"
      },
      "execution_count": 4,
      "outputs": []
    },
    {
      "cell_type": "code",
      "source": [
        "\n",
        "allcomments = []\n",
        "\n",
        "def getAllComments():\n",
        "\n",
        "  nextPageToken = \"\"\n",
        "\n",
        "  while(True):\n",
        "    request = youtube.commentThreads().list(\n",
        "        part=['snippet', 'replies'],\n",
        "        videoId='fsvN4IiZFCA',\n",
        "        maxResults='100',\n",
        "        pageToken=nextPageToken)\n",
        "\n",
        "    response = request.execute()\n",
        "    allcomments.extend(response[\"items\"])\n",
        "\n",
        "    if('nextPageToken' not in response.keys()):\n",
        "      break\n",
        "    else:\n",
        "      nextPageToken = response[\"nextPageToken\"]\n",
        "\n",
        "  return allcomments\n",
        "\n",
        "allcomments = getAllComments()"
      ],
      "metadata": {
        "id": "A-U2HDsW75VE"
      },
      "execution_count": 6,
      "outputs": []
    },
    {
      "cell_type": "code",
      "source": [
        "# print(response[\"items\"][1].keys())"
      ],
      "metadata": {
        "id": "fmDDMChhWwRY"
      },
      "execution_count": 7,
      "outputs": []
    },
    {
      "cell_type": "code",
      "source": [
        "commentlist = []\n",
        "comments = \"\"\n",
        "counter = 1\n",
        "\n",
        "for item in allcomments:\n",
        "    comment = item[\"snippet\"][\"topLevelComment\"][\"snippet\"]\n",
        "    comments += \"{}. {}\\n\".format(counter, comment['textDisplay'])\n",
        "    counter+=1\n",
        "\n",
        "    commentlist.append([comment[\"authorDisplayName\"],\n",
        "                       comment[\"publishedAt\"],\n",
        "                       comment[\"updatedAt\"],\n",
        "                       comment[\"likeCount\"],\n",
        "                       comment[\"textDisplay\"]\n",
        "                   ])\n",
        "\n",
        "    \"\"\" code to handle comment replies below as comment \"\"\"\n",
        "    if(item[\"snippet\"][\"totalReplyCount\"]):\n",
        "      for commentreply in item[\"replies\"][\"comments\"]:\n",
        "        comments += \"{}. {}\\n\".format(counter, commentreply[\"snippet\"][\"textDisplay\"])\n",
        "        counter += 1\n",
        "        commentlist.append([commentreply[\"snippet\"][\"authorDisplayName\"],\n",
        "                            commentreply[\"snippet\"][\"publishedAt\"],\n",
        "                            commentreply[\"snippet\"][\"updatedAt\"],\n",
        "                            commentreply[\"snippet\"][\"likeCount\"],\n",
        "                            commentreply[\"snippet\"][\"textDisplay\"]])\n",
        "\n",
        "df = pd.DataFrame(commentlist, columns=[\"author\", \"published_at\", \"updated_at\", \"like_count\", \"text\"])"
      ],
      "metadata": {
        "id": "-4qXxd4f8AC9"
      },
      "execution_count": 8,
      "outputs": []
    },
    {
      "cell_type": "code",
      "source": [
        "len(df)"
      ],
      "metadata": {
        "colab": {
          "base_uri": "https://localhost:8080/"
        },
        "id": "ytPCck-Uf8Yt",
        "outputId": "dd4a21fc-eb4b-46b9-87d6-8207ffd6e880"
      },
      "execution_count": 9,
      "outputs": [
        {
          "output_type": "execute_result",
          "data": {
            "text/plain": [
              "124"
            ]
          },
          "metadata": {},
          "execution_count": 9
        }
      ]
    },
    {
      "cell_type": "code",
      "source": [
        "user_question = \"Give me a summary of the comments.\""
      ],
      "metadata": {
        "id": "PmqqwV5n9ze4"
      },
      "execution_count": 10,
      "outputs": []
    },
    {
      "cell_type": "code",
      "source": [
        "prompt = \"\"\"\n",
        "          Based on the comments, answer the question.\n",
        "          {user_question}\n",
        "\n",
        "          Comments:\n",
        "          {comments}\n",
        "\"\"\".format(user_question=user_question, comments=comments)"
      ],
      "metadata": {
        "id": "ahlh7vU75WHU"
      },
      "execution_count": 11,
      "outputs": []
    },
    {
      "cell_type": "code",
      "source": [
        "completion = groqclient.chat.completions.create(\n",
        "    model=\"llama3-70b-8192\",\n",
        "    messages=[\n",
        "        {\n",
        "            \"role\": \"system\",\n",
        "            \"content\": \"You are a helpful assistant who helps the user to answer the question from the context information given.\"\n",
        "        },\n",
        "        {\n",
        "            \"role\": \"user\",\n",
        "            \"content\": prompt\n",
        "        }\n",
        "    ],\n",
        "    temperature=1,\n",
        "    max_tokens=1024,\n",
        "    top_p=1,\n",
        "    stream=True,\n",
        "    stop=None,\n",
        ")\n",
        "\n"
      ],
      "metadata": {
        "id": "xXwgShmN5QrB"
      },
      "execution_count": 12,
      "outputs": []
    },
    {
      "cell_type": "code",
      "source": [
        "# This code is for stream output\n",
        "for chunk in completion:\n",
        "    print(chunk.choices[0].delta.content or \"\", end=\"\")\n"
      ],
      "metadata": {
        "colab": {
          "base_uri": "https://localhost:8080/"
        },
        "id": "57qhGRpiCel8",
        "outputId": "35cd4e5b-c770-4175-a9d4-f3464e8a2876"
      },
      "execution_count": 13,
      "outputs": [
        {
          "output_type": "stream",
          "name": "stdout",
          "text": [
            "Based on the comments, here is a summary:\n",
            "\n",
            "* The majority of commenters loved the episode and thought Tessa was amazing, funny, and adorable. They appreciated her energy, humor, and storytelling.\n",
            "* Many commenters requested for Tessa to come back on the podcast again, and some even suggested making her a regular member.\n",
            "* A few commenters mentioned that they could relate to Tessa's experiences, especially when it came to stalking and university life in the UK.\n",
            "* Some commenters made fun of or teased other podcast members, like Fahim, and joked about his absence or potential conflicts with Sharan.\n",
            "* A few commenters mentioned specific moments or quotes from the episode that they enjoyed, such as Tessa's Roommate story or her opinions on Harry Potter.\n",
            "* There were also some random comments and jokes that didn't seem to be related to the episode or podcast.\n",
            "\n",
            "Overall, the comments suggest that the episode was well-received and that Tessa was a hit with the audience."
          ]
        }
      ]
    },
    {
      "cell_type": "code",
      "source": [],
      "metadata": {
        "id": "F2GV8J5h6DhB"
      },
      "execution_count": 12,
      "outputs": []
    }
  ]
}